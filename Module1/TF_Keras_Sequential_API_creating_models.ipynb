{
  "nbformat": 4,
  "nbformat_minor": 0,
  "metadata": {
    "celltoolbar": "Tags",
    "kernelspec": {
      "display_name": "Python [conda env:anaconda3-tf22]",
      "language": "python",
      "name": "conda-env-anaconda3-tf22-py"
    },
    "language_info": {
      "codemirror_mode": {
        "name": "ipython",
        "version": 3
      },
      "file_extension": ".py",
      "mimetype": "text/x-python",
      "name": "python",
      "nbconvert_exporter": "python",
      "pygments_lexer": "ipython3",
      "version": "3.7.10"
    },
    "rise": {
      "enable_chalkboard": true,
      "footer": "<h4 style=text-align:left;>Dr Amita Kapoor</h4>",
      "height": "70%",
      "leap_motion": {
        "naturalSwipe": true,
        "pointerColor": "#d80000",
        "pointerOpacity": 0.6
      },
      "scroll": true,
      "start_slideshow_at": "beginning",
      "theme": "moon",
      "transistion": "zoom",
      "width": "90%"
    },
    "colab": {
      "name": "TF-Keras-Sequential-API-creating-models.ipynb",
      "provenance": [],
      "collapsed_sections": [],
      "include_colab_link": true
    }
  },
  "cells": [
    {
      "cell_type": "markdown",
      "metadata": {
        "id": "view-in-github",
        "colab_type": "text"
      },
      "source": [
        "<a href=\"https://colab.research.google.com/github/Educat8n/Deep-Learning-for-Computer-Vision-with-Python-and-Keras-TensorFlow-2.0/blob/main/Module1/TF_Keras_Sequential_API_creating_models.ipynb\" target=\"_parent\"><img src=\"https://colab.research.google.com/assets/colab-badge.svg\" alt=\"Open In Colab\"/></a>"
      ]
    },
    {
      "cell_type": "code",
      "metadata": {
        "id": "I0gmiftzY0DD"
      },
      "source": [
        "## import packages\n",
        "import tensorflow.keras as K\n",
        "from tensorflow.keras.models import Sequential\n",
        "from tensorflow.keras.layers import Dense, Dropout\n",
        "\n",
        "\n",
        "## Define Globals\n",
        "EPOCHS = 200\n",
        "BATCH_SIZE = 128 \n",
        "VERBOSE = 1\n",
        "NB_CLASSES = 10 # number of outputs = number of digits\n",
        "N_HIDDEN = 128\n",
        "VALIDATION_SPLIT = 0.2 # how much TRAIN is reserved for VALIDATION \n",
        "DROPOUT = 0.3\n",
        "RESHAPED = 784"
      ],
      "execution_count": 1,
      "outputs": []
    },
    {
      "cell_type": "code",
      "metadata": {
        "id": "nFn9BtxCY0DI"
      },
      "source": [
        "model_sequential = Sequential()\n",
        "model_sequential.add(Dense(4,input_shape=(100,), name='dense_layer_1', activation='relu')) \n",
        "model_sequential.add(Dense(122, name='dense_layer_2', activation='relu'))\n",
        "model_sequential.add(Dense(10, name='dense_layer_3', activation='softmax'))"
      ],
      "execution_count": 2,
      "outputs": []
    },
    {
      "cell_type": "code",
      "metadata": {
        "colab": {
          "base_uri": "https://localhost:8080/"
        },
        "id": "5zrpUlVbY0DJ",
        "outputId": "b8b4ded9-c15a-49e2-f6c1-c2e7277e2037"
      },
      "source": [
        "model_sequential.summary()"
      ],
      "execution_count": 3,
      "outputs": [
        {
          "output_type": "stream",
          "text": [
            "Model: \"sequential\"\n",
            "_________________________________________________________________\n",
            "Layer (type)                 Output Shape              Param #   \n",
            "=================================================================\n",
            "dense_layer_1 (Dense)        (None, 4)                 404       \n",
            "_________________________________________________________________\n",
            "dense_layer_2 (Dense)        (None, 122)               610       \n",
            "_________________________________________________________________\n",
            "dense_layer_3 (Dense)        (None, 10)                1230      \n",
            "=================================================================\n",
            "Total params: 2,244\n",
            "Trainable params: 2,244\n",
            "Non-trainable params: 0\n",
            "_________________________________________________________________\n"
          ],
          "name": "stdout"
        }
      ]
    },
    {
      "cell_type": "code",
      "metadata": {
        "colab": {
          "base_uri": "https://localhost:8080/",
          "height": 369
        },
        "id": "Cc7JP2NBY0DL",
        "outputId": "c4a68fbe-f335-49ad-af47-c5b20a48ce2f"
      },
      "source": [
        "K.utils.plot_model(model_sequential, to_file=\"model.png\")"
      ],
      "execution_count": 4,
      "outputs": [
        {
          "output_type": "execute_result",
          "data": {
            "image/png": "[encoded data removed]",
            "text/plain": [
              "<IPython.core.display.Image object>"
            ]
          },
          "metadata": {
            "tags": []
          },
          "execution_count": 4
        }
      ]
    },
    {
      "cell_type": "code",
      "metadata": {
        "id": "pBl5yyX7Y_7P"
      },
      "source": [
        ""
      ],
      "execution_count": 4,
      "outputs": []
    }
  ]
}