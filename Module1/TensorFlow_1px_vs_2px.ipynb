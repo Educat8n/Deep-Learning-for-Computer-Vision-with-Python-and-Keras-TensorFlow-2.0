{
  "nbformat": 4,
  "nbformat_minor": 0,
  "metadata": {
    "colab": {
      "name": "TensorFlow_1px_vs_2px.ipynb",
      "provenance": [],
      "collapsed_sections": [],
      "authorship_tag": "ABX9TyOUzUVKNnMmcpOPJXuKBDe/",
      "include_colab_link": true
    },
    "kernelspec": {
      "name": "python3",
      "display_name": "Python 3"
    },
    "language_info": {
      "name": "python"
    }
  },
  "cells": [
    {
      "cell_type": "markdown",
      "metadata": {
        "id": "view-in-github",
        "colab_type": "text"
      },
      "source": [
        "<a href=\"https://colab.research.google.com/github/Educat8n/Deep-Learning-for-Computer-Vision-with-Python-and-Keras-TensorFlow-2.0/blob/main/Module1/TensorFlow_1px_vs_2px.ipynb\" target=\"_parent\"><img src=\"https://colab.research.google.com/assets/colab-badge.svg\" alt=\"Open In Colab\"/></a>"
      ]
    },
    {
      "cell_type": "code",
      "metadata": {
        "cellView": "form",
        "id": "jYitT5RcmKBh"
      },
      "source": [
        "#@title Run this Cell to Shift to TF1.x version\n",
        "%%capture\n",
        "%tensorflow_version 1.x ## Use TensorFlow 1.x version"
      ],
      "execution_count": null,
      "outputs": []
    },
    {
      "cell_type": "code",
      "metadata": {
        "colab": {
          "base_uri": "https://localhost:8080/"
        },
        "id": "aGEVn007XnY_",
        "outputId": "cfe0c349-b9c6-4843-c374-cb5cb924992d"
      },
      "source": [
        "import tensorflow as tf\n",
        "print(f\"TensorFlow Version is: {tf.__version__}\")"
      ],
      "execution_count": null,
      "outputs": [
        {
          "output_type": "stream",
          "text": [
            "TensorFlow Version is: 2.5.0\n"
          ],
          "name": "stdout"
        }
      ]
    },
    {
      "cell_type": "markdown",
      "metadata": {
        "id": "gKwfqQYeSkEU"
      },
      "source": [
        "### Eager Execution"
      ]
    },
    {
      "cell_type": "code",
      "metadata": {
        "id": "axbRPir3r0U1"
      },
      "source": [
        "def my_function(a,b):\n",
        "  return tf.add(a,b)"
      ],
      "execution_count": null,
      "outputs": []
    },
    {
      "cell_type": "code",
      "metadata": {
        "colab": {
          "base_uri": "https://localhost:8080/"
        },
        "id": "DPHXqfwPk8qN",
        "outputId": "bab59aad-ceb5-47ab-bd89-3bc875e6dba8"
      },
      "source": [
        "if (tf.__version__).split('.')[0] == '1':\n",
        "  ##Run the code if Tf version 1.x\n",
        "  a = tf.placeholder(tf.int64)\n",
        "  b = tf.placeholder(tf.int64)\n",
        "  init = tf.global_variables_initializer()\n",
        "  sum_ = my_function(a, b) \n",
        "\n",
        "  with tf.Session() as sess:\n",
        "    sess.run(init)\n",
        "    output = sess.run(sum_, feed_dict={a:3, b:4})\n",
        "    print(f'TF1.x result {output}')\n",
        "\n",
        "else:\n",
        "  ##Run the code if Tf version 2.x\n",
        "  output = my_function(3, 4)\n",
        "  print(f'TF2.x result {output}')\n",
        "\n"
      ],
      "execution_count": null,
      "outputs": [
        {
          "output_type": "stream",
          "text": [
            "TF2.x result 7\n"
          ],
          "name": "stdout"
        }
      ]
    },
    {
      "cell_type": "markdown",
      "metadata": {
        "id": "yKt-DfG_vad3"
      },
      "source": [
        "### Tf Function Decorator for speedup\n",
        "\n",
        "The code below is only for TF2.0"
      ]
    },
    {
      "cell_type": "code",
      "metadata": {
        "colab": {
          "base_uri": "https://localhost:8080/"
        },
        "id": "WYq8kZIDxTiX",
        "outputId": "34ec874f-9c11-4a73-faf3-d97775067636"
      },
      "source": [
        "import tensorflow as tf\n",
        "print(f\"TensorFlow Version is: {tf.__version__}\")"
      ],
      "execution_count": null,
      "outputs": [
        {
          "output_type": "stream",
          "text": [
            "TensorFlow Version is: 2.5.0\n"
          ],
          "name": "stdout"
        }
      ]
    },
    {
      "cell_type": "code",
      "metadata": {
        "id": "cV5_QLSMuzJf"
      },
      "source": [
        " def f(x):\n",
        "  for i in range(1000):\n",
        "    for j in range(1000):\n",
        "        x += 1\n",
        "  return x"
      ],
      "execution_count": null,
      "outputs": []
    },
    {
      "cell_type": "code",
      "metadata": {
        "colab": {
          "base_uri": "https://localhost:8080/"
        },
        "id": "VmGL_kmPuQao",
        "outputId": "3dffccdb-9743-490b-9b28-318944f43e33"
      },
      "source": [
        "%%timeit\n",
        "x = 0.0\n",
        "x = f(x)"
      ],
      "execution_count": null,
      "outputs": [
        {
          "output_type": "stream",
          "text": [
            "10 loops, best of 5: 53.5 ms per loop\n"
          ],
          "name": "stdout"
        }
      ]
    },
    {
      "cell_type": "code",
      "metadata": {
        "id": "yXUfHz4lxHQ-"
      },
      "source": [
        "@tf.function\n",
        "def f_deco(x): \n",
        "  for i in range(1000):\n",
        "    for j in range(1000):\n",
        "      x += 1\n",
        "  return x"
      ],
      "execution_count": null,
      "outputs": []
    },
    {
      "cell_type": "code",
      "metadata": {
        "colab": {
          "base_uri": "https://localhost:8080/"
        },
        "id": "Je9YYYnWs_cG",
        "outputId": "3ec459c0-62e3-4e34-b2e8-c020b8bdb8c8"
      },
      "source": [
        "%%timeit\n",
        "x = 0.0\n",
        "x = f_deco(x)"
      ],
      "execution_count": null,
      "outputs": [
        {
          "output_type": "stream",
          "text": [
            "The slowest run took 6187.36 times longer than the fastest. This could mean that an intermediate result is being cached.\n",
            "1 loop, best of 5: 230 µs per loop\n"
          ],
          "name": "stdout"
        }
      ]
    },
    {
      "cell_type": "code",
      "metadata": {
        "id": "7QQAJnVHvhYc"
      },
      "source": [
        ""
      ],
      "execution_count": null,
      "outputs": []
    }
  ]
}